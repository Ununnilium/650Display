{
 "cells": [
  {
   "cell_type": "code",
   "execution_count": null,
   "id": "3165bf47",
   "metadata": {},
   "outputs": [],
   "source": [
    "import os\n",
    "import glob"
   ]
  },
  {
   "cell_type": "code",
   "execution_count": null,
   "id": "fe36c5d5",
   "metadata": {},
   "outputs": [],
   "source": [
    "out_dir = 'c:/Users/USERNAME/Documents/Arduino/650Display/fonts'\n",
    "for name in glob.glob(r'C:\\Users\\USERNAME\\Documents\\Processing\\FOLDER\\data\\*.vlw'):\n",
    "    with open(name, 'rb') as f:\n",
    "        data = f.read()\n",
    "    c_name = os.path.basename(name)[:-4].replace('-', '')\n",
    "    string = []\n",
    "    counter = 0\n",
    "    for i, byte in enumerate(data):\n",
    "        if i % 16 == 0:\n",
    "            string.append('\\n' + hex(byte))\n",
    "        else:\n",
    "            string.append(hex(byte))\n",
    "    string = ', '.join(string)\n",
    "    c_header = f\"\"\"const uint8_t  {c_name}[] PROGMEM = {{{string}\n",
    "}};\n",
    "\"\"\"\n",
    "    with open(os.path.join(out_dir, c_name + '.h'), 'w') as f:\n",
    "          f.write(c_header)"
   ]
  },
  {
   "cell_type": "code",
   "execution_count": null,
   "id": "bc7c34e8",
   "metadata": {},
   "outputs": [],
   "source": [
    "# See https://docs.microsoft.com/en-us/windows/win32/directshow/working-with-16-bit-rgb\n",
    "def colour_convert(r, g, b) -> str:\n",
    "    factor_r_b = 31/255\n",
    "    factor_g = 63/255\n",
    "    r = round(r * factor_r_b)\n",
    "    g = round(g * factor_g)\n",
    "    b = round(b * factor_r_b)\n",
    "    return hex((r << 11) | (g << 5) | b)"
   ]
  },
  {
   "cell_type": "code",
   "execution_count": null,
   "id": "a9b26047",
   "metadata": {},
   "outputs": [],
   "source": [
    "colour_convert(102, 75, 0)"
   ]
  }
 ],
 "metadata": {
  "kernelspec": {
   "display_name": "Python 3 (ipykernel)",
   "language": "python",
   "name": "python3"
  },
  "language_info": {
   "codemirror_mode": {
    "name": "ipython",
    "version": 3
   },
   "file_extension": ".py",
   "mimetype": "text/x-python",
   "name": "python",
   "nbconvert_exporter": "python",
   "pygments_lexer": "ipython3",
   "version": "3.10.4"
  }
 },
 "nbformat": 4,
 "nbformat_minor": 5
}
